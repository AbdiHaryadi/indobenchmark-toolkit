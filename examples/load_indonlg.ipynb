{
 "cells": [
  {
   "cell_type": "code",
   "execution_count": 1,
   "metadata": {},
   "outputs": [],
   "source": [
    "import os, sys\n",
    "sys.path.append('../')\n",
    "import torch\n",
    "from transformers import GPT2LMHeadModel, MBartForConditionalGeneration\n",
    "from src.indobenchmark import IndoNLGTokenizer\n",
    "from torch.utils.data import DataLoader"
   ]
  },
  {
   "cell_type": "code",
   "execution_count": 2,
   "metadata": {},
   "outputs": [],
   "source": [
    "def count_param(module, trainable=False):\n",
    "    if trainable:\n",
    "        return sum(p.numel() for p in module.parameters() if p.requires_grad)\n",
    "    else:\n",
    "        return sum(p.numel() for p in module.parameters())"
   ]
  },
  {
   "cell_type": "markdown",
   "metadata": {
    "tags": []
   },
   "source": [
    "# Init Model"
   ]
  },
  {
   "cell_type": "code",
   "execution_count": null,
   "metadata": {
    "tags": []
   },
   "outputs": [],
   "source": [
    "%%time\n",
    "gpt_model = GPT2LMHeadModel.from_pretrained('indobenchmark/indogpt')\n",
    "gpt_tokenizer = IndoNLGTokenizer.from_pretrained('indobenchmark/indogpt')\n",
    "\n",
    "bart_model = MBartForConditionalGeneration.from_pretrained('indobenchmark/indobart-v2')\n",
    "bart_tokenizer = IndoNLGTokenizer.from_pretrained('indobenchmark/indobart-v2')"
   ]
  },
  {
   "cell_type": "markdown",
   "metadata": {
    "tags": []
   },
   "source": [
    "# Test GPT Model"
   ]
  },
  {
   "cell_type": "code",
   "execution_count": null,
   "metadata": {},
   "outputs": [],
   "source": [
    "gpt_input = gpt_tokenizer.prepare_input_for_generation('aku adalah anak', model_type='indogpt', return_tensors='pt')\n",
    "gpt_out = gpt_model.generate(**gpt_input)\n",
    "gpt_tokenizer.decode(gpt_out[0])"
   ]
  },
  {
   "cell_type": "code",
   "execution_count": null,
   "metadata": {},
   "outputs": [],
   "source": [
    "gpt_input = gpt_tokenizer.prepare_input_for_generation('aku suka sekali ', model_type='indogpt', return_tensors='pt')\n",
    "gpt_out = gpt_model.generate(**gpt_input)\n",
    "gpt_tokenizer.decode(gpt_out[0])"
   ]
  },
  {
   "cell_type": "code",
   "execution_count": null,
   "metadata": {},
   "outputs": [],
   "source": [
    "gpt_input = gpt_tokenizer.prepare_input_for_generation('hai, bagaimana ', model_type='indogpt', return_tensors='pt')\n",
    "gpt_out = gpt_model.generate(**gpt_input)\n",
    "gpt_tokenizer.decode(gpt_out[0])"
   ]
  },
  {
   "cell_type": "markdown",
   "metadata": {
    "tags": []
   },
   "source": [
    "# Test BART Model"
   ]
  },
  {
   "cell_type": "code",
   "execution_count": null,
   "metadata": {},
   "outputs": [],
   "source": [
    "inputs = ['aku pergi ke toko obat membeli <mask>']\n",
    "bart_input = bart_tokenizer.prepare_input_for_generation(inputs, return_tensors='pt',\n",
    "                                         lang_token = '[indonesian]', decoder_lang_token='[indonesian]')\n",
    "\n",
    "bart_out = bart_model(**bart_input)\n",
    "print(bart_tokenizer.decode(bart_input['input_ids'][0]))\n",
    "print(bart_tokenizer.decode(bart_out.logits.topk(1).indices[:,:].squeeze()))"
   ]
  },
  {
   "cell_type": "code",
   "execution_count": null,
   "metadata": {},
   "outputs": [],
   "source": [
    "inputs = ['aku menyang pasar <mask>']\n",
    "bart_input = bart_tokenizer.prepare_input_for_generation(inputs, return_tensors='pt',\n",
    "                                         lang_token = '[javanese]', decoder_lang_token='[javanese]')\n",
    "\n",
    "bart_out = bart_model(**bart_input)\n",
    "print(bart_tokenizer.decode(bart_input['input_ids'][0]))\n",
    "print(bart_tokenizer.decode(bart_out.logits.topk(1).indices[:,:].squeeze()))"
   ]
  },
  {
   "cell_type": "code",
   "execution_count": null,
   "metadata": {},
   "outputs": [],
   "source": [
    "inputs = ['kuring ka pasar senen meuli daging <mask>']\n",
    "bart_input = bart_tokenizer.prepare_input_for_generation(inputs, return_tensors='pt',\n",
    "                                         lang_token = '[sundanese]', decoder_lang_token='[sundanese]')\n",
    "\n",
    "bart_out = bart_model(**bart_input)\n",
    "print(bart_tokenizer.decode(bart_input['input_ids'][0]))\n",
    "print(bart_tokenizer.decode(bart_out.logits.topk(1).indices[:,:].squeeze()))"
   ]
  },
  {
   "cell_type": "markdown",
   "metadata": {
    "tags": []
   },
   "source": [
    "# Batch Loading with Decoder Tokens"
   ]
  },
  {
   "cell_type": "code",
   "execution_count": null,
   "metadata": {},
   "outputs": [],
   "source": [
    "data = []\n",
    "for enc, dec in zip(\n",
    "    ['aku adalah anak gembala', 'balonku ada lima', 'so I say'], \n",
    "    ['selalu riang serta gembira', 'see you once again my love', 'pokemon master']\n",
    "):\n",
    "    data.append(bart_tokenizer.prepare_input_for_generation(\n",
    "        enc, decoder_inputs=dec, model_type='indobart', return_tensors='pt',\n",
    "        lang_token='[sundanese]', decoder_lang_token='[javanese]', padding=False\n",
    "    ))\n",
    "print(data)"
   ]
  },
  {
   "cell_type": "code",
   "execution_count": null,
   "metadata": {},
   "outputs": [],
   "source": [
    "for batch in DataLoader(data, batch_size=3, collate_fn=lambda t: tokenizer.pad(t, padding='longest')):\n",
    "    print(batch)\n",
    "    break"
   ]
  },
  {
   "cell_type": "code",
   "execution_count": null,
   "metadata": {},
   "outputs": [],
   "source": []
  }
 ],
 "metadata": {
  "kernelspec": {
   "display_name": "env_indonlg",
   "language": "python",
   "name": "env_indonlg"
  },
  "language_info": {
   "codemirror_mode": {
    "name": "ipython",
    "version": 3
   },
   "file_extension": ".py",
   "mimetype": "text/x-python",
   "name": "python",
   "nbconvert_exporter": "python",
   "pygments_lexer": "ipython3",
   "version": "3.8.8"
  }
 },
 "nbformat": 4,
 "nbformat_minor": 4
}
